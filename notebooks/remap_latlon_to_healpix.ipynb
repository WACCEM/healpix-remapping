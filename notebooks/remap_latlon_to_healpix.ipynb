{
 "cells": [
  {
   "cell_type": "markdown",
   "id": "dccdc3f6",
   "metadata": {},
   "source": [
    "# Remap Regular Lat/Lon Grid to HEALPix\n",
    "\n",
    "This notebook demonstrates how to remap a regular latitude/longitude grid dataset to HEALPix grid using easygems.remap.\n",
    "\n",
    "Adapted from the unstructured grid examples to work with regular grids like the MERG dataset."
   ]
  },
  {
   "cell_type": "code",
   "execution_count": null,
   "id": "6b003079",
   "metadata": {},
   "outputs": [],
   "source": [
    "import numpy as np\n",
    "import xarray as xr\n",
    "import healpix as hp\n",
    "import easygems.remap as egr\n",
    "import easygems.healpix as egh\n",
    "import matplotlib.pyplot as plt\n",
    "from pathlib import Path"
   ]
  },
  {
   "cell_type": "markdown",
   "id": "b1fb1f90",
   "metadata": {},
   "source": [
    "## Define the remapping functions"
   ]
  },
  {
   "cell_type": "code",
   "execution_count": null,
   "id": "90c6595b",
   "metadata": {},
   "outputs": [],
   "source": [
    "def gen_weights_latlon(lon, lat, order):\n",
    "    \"\"\"\n",
    "    Generate remapping weights from regular lat/lon grid to HEALPix grid.\n",
    "    \n",
    "    Parameters:\n",
    "    -----------\n",
    "    lon : array-like\n",
    "        1D array of longitude values in degrees\n",
    "    lat : array-like  \n",
    "        1D array of latitude values in degrees\n",
    "    order : int\n",
    "        HEALPix order (zoom level)\n",
    "        \n",
    "    Returns:\n",
    "    --------\n",
    "    weights : Dataset\n",
    "        Remapping weights for use with easygems.remap.apply_weights\n",
    "    \"\"\"\n",
    "    nside = hp.order2nside(order)\n",
    "    npix = hp.nside2npix(nside)\n",
    "    \n",
    "    # Get HEALPix pixel coordinates\n",
    "    hp_lon, hp_lat = hp.pix2ang(\n",
    "        nside=nside, ipix=np.arange(npix), lonlat=True, nest=True\n",
    "    )\n",
    "    \n",
    "    # Create 2D meshgrid from 1D lat/lon arrays\n",
    "    lon_2d, lat_2d = np.meshgrid(lon, lat)\n",
    "    \n",
    "    # Flatten to 1D for weight computation\n",
    "    source_lon = lon_2d.flatten()\n",
    "    source_lat = lat_2d.flatten()\n",
    "    \n",
    "    # For global grids, handle periodicity\n",
    "    if np.max(lon) - np.min(lon) >= 359:  # Global grid\n",
    "        print(\"Handling longitude periodicity for global grid\")\n",
    "        \n",
    "        # Extend grid periodically in longitude\n",
    "        lon_extended = np.hstack([source_lon - 360, source_lon, source_lon + 360])\n",
    "        lat_extended = np.tile(source_lat, 3)\n",
    "        \n",
    "        # Compute weights using extended grid\n",
    "        weights = egr.compute_weights_delaunay(\n",
    "            points=(lon_extended, lat_extended), \n",
    "            xi=(hp_lon, hp_lat)\n",
    "        )\n",
    "        \n",
    "        # Remap source indices back to original grid size\n",
    "        original_size = len(source_lon)\n",
    "        weights = weights.assign(src_idx=weights.src_idx % original_size)\n",
    "        \n",
    "    else:\n",
    "        # Regional grid - no periodicity handling\n",
    "        print(\"Regional grid detected, no periodicity handling\")\n",
    "        weights = egr.compute_weights_delaunay(\n",
    "            points=(source_lon, source_lat), \n",
    "            xi=(hp_lon, hp_lat)\n",
    "        )\n",
    "    \n",
    "    return weights"
   ]
  },
  {
   "cell_type": "code",
   "execution_count": null,
   "id": "7ef988f8",
   "metadata": {},
   "outputs": [],
   "source": [
    "def remap_latlon_to_healpix(ds, order):\n",
    "    \"\"\"\n",
    "    Remap a dataset from regular lat/lon grid to HEALPix grid.\n",
    "    \n",
    "    Parameters:\n",
    "    -----------\n",
    "    ds : xr.Dataset\n",
    "        Input dataset with lat/lon coordinates\n",
    "    order : int\n",
    "        HEALPix order (zoom level)\n",
    "        \n",
    "    Returns:\n",
    "    --------\n",
    "    ds_remap : xr.Dataset\n",
    "        Dataset remapped to HEALPix grid with 'cell' dimension\n",
    "    \"\"\"\n",
    "    \n",
    "    # Generate remapping weights\n",
    "    print(f\"Generating weights for HEALPix order {order}\")\n",
    "    weights = gen_weights_latlon(ds.lon.values, ds.lat.values, order)\n",
    "    \n",
    "    # Get number of HEALPix pixels\n",
    "    npix = len(weights.tgt_idx)\n",
    "    print(f\"Remapping to {npix} HEALPix pixels\")\n",
    "    \n",
    "    # Apply remapping using xr.apply_ufunc\n",
    "    ds_remap = xr.apply_ufunc(\n",
    "        egr.apply_weights,\n",
    "        ds,\n",
    "        kwargs=weights,\n",
    "        keep_attrs=True,\n",
    "        input_core_dims=[[\"lat\", \"lon\"]],  # Input dimensions to remap\n",
    "        output_core_dims=[[\"cell\"]],       # Output HEALPix dimension\n",
    "        on_missing_core_dim=\"copy\",        # Copy other dimensions as-is\n",
    "        output_dtypes=[\"f4\"],\n",
    "        vectorize=True,\n",
    "        dask=\"parallelized\",\n",
    "        dask_gufunc_kwargs={\n",
    "            \"output_sizes\": {\"cell\": npix},\n",
    "        },\n",
    "    )\n",
    "    \n",
    "    return ds_remap"
   ]
  },
  {
   "cell_type": "markdown",
   "id": "91e63224",
   "metadata": {},
   "source": [
    "## Load and examine your dataset"
   ]
  },
  {
   "cell_type": "code",
   "execution_count": null,
   "id": "b964c7c0",
   "metadata": {},
   "outputs": [],
   "source": [
    "# Update this path to your actual file\n",
    "input_file = \"merg_2020080620_4km-pixel.nc\"\n",
    "\n",
    "# Open with chunking for memory efficiency\n",
    "ds = xr.open_dataset(input_file, chunks={'time': 1, 'lat': 900, 'lon': 1800})\n",
    "print(\"Dataset loaded:\")\n",
    "display(ds)\n",
    "\n",
    "print(f\"\\nGrid info:\")\n",
    "print(f\"Longitude range: {ds.lon.min().values:.2f} to {ds.lon.max().values:.2f}\")\n",
    "print(f\"Latitude range: {ds.lat.min().values:.2f} to {ds.lat.max().values:.2f}\")\n",
    "print(f\"Grid resolution: ~{np.diff(ds.lon.values).mean():.3f}° lon, ~{np.diff(ds.lat.values).mean():.3f}° lat\")"
   ]
  },
  {
   "cell_type": "markdown",
   "id": "d587ba9f",
   "metadata": {},
   "source": [
    "## Perform the remapping to HEALPix zoom 9"
   ]
  },
  {
   "cell_type": "code",
   "execution_count": null,
   "id": "262b9ddd",
   "metadata": {},
   "outputs": [],
   "source": [
    "# Set HEALPix parameters\n",
    "order = 9\n",
    "nside = hp.order2nside(order)\n",
    "npix = hp.nside2npix(nside)\n",
    "\n",
    "print(f\"HEALPix order {order}: nside={nside}, npix={npix}\")\n",
    "print(f\"Approximate HEALPix resolution: {np.sqrt(4*np.pi/npix)*180/np.pi:.3f} degrees\")\n",
    "\n",
    "# Perform the remapping\n",
    "print(\"\\nStarting remapping...\")\n",
    "ds_remap = remap_latlon_to_healpix(ds, order)\n",
    "\n",
    "print(\"\\nRemapped dataset:\")\n",
    "display(ds_remap)"
   ]
  },
  {
   "cell_type": "markdown",
   "id": "d93d084b",
   "metadata": {},
   "source": [
    "## Add metadata and save"
   ]
  },
  {
   "cell_type": "code",
   "execution_count": null,
   "id": "3fa0b031",
   "metadata": {},
   "outputs": [],
   "source": [
    "# Add HEALPix metadata\n",
    "ds_remap.attrs.update({\n",
    "    'healpix_order': order,\n",
    "    'healpix_nside': nside,\n",
    "    'healpix_npix': npix,\n",
    "    'healpix_nest': True,\n",
    "    'original_grid': 'regular_lat_lon',\n",
    "    'original_resolution': '0.01_degree',\n",
    "    'remapping_method': 'delaunay_triangulation'\n",
    "})\n",
    "\n",
    "# Save the remapped dataset\n",
    "output_file = f\"merg_2020080620_4km-pixel_healpix_z{order}.nc\"\n",
    "\n",
    "print(f\"Saving to {output_file}...\")\n",
    "encoding = {\n",
    "    'Tb': {'zlib': True, 'complevel': 4},\n",
    "    'precipitationCal': {'zlib': True, 'complevel': 4}\n",
    "}\n",
    "\n",
    "ds_remap.to_netcdf(output_file, encoding=encoding)\n",
    "print(\"File saved successfully!\")"
   ]
  },
  {
   "cell_type": "markdown",
   "id": "15843a0a",
   "metadata": {},
   "source": [
    "## Visualize the results"
   ]
  },
  {
   "cell_type": "code",
   "execution_count": null,
   "id": "b0c3e4a2",
   "metadata": {},
   "outputs": [],
   "source": [
    "# Plot original data\n",
    "fig, (ax1, ax2) = plt.subplots(1, 2, figsize=(15, 6))\n",
    "\n",
    "# Original grid\n",
    "ds.Tb.isel(time=0).plot(ax=ax1, cmap='viridis')\n",
    "ax1.set_title('Original Lat/Lon Grid')\n",
    "ax1.set_aspect('equal')\n",
    "\n",
    "# HEALPix grid using easygems\n",
    "egh.healpix_show(ds_remap.Tb.isel(time=0), ax=ax2, cmap='viridis')\n",
    "ax2.set_title(f'HEALPix Grid (order {order})')\n",
    "\n",
    "plt.tight_layout()\n",
    "plt.show()"
   ]
  },
  {
   "cell_type": "code",
   "execution_count": null,
   "id": "aa1c2f92",
   "metadata": {},
   "outputs": [],
   "source": [
    "# Compare precipitation data\n",
    "fig, (ax1, ax2) = plt.subplots(1, 2, figsize=(15, 6))\n",
    "\n",
    "# Original precipitation\n",
    "ds.precipitationCal.isel(time=0).plot(ax=ax1, cmap='Blues')\n",
    "ax1.set_title('Original Precipitation (mm/hr)')\n",
    "ax1.set_aspect('equal')\n",
    "\n",
    "# HEALPix precipitation\n",
    "egh.healpix_show(ds_remap.precipitationCal.isel(time=0), ax=ax2, cmap='Blues')\n",
    "ax2.set_title(f'HEALPix Precipitation (order {order})')\n",
    "\n",
    "plt.tight_layout()\n",
    "plt.show()"
   ]
  },
  {
   "cell_type": "markdown",
   "id": "e4e78148",
   "metadata": {},
   "source": [
    "## Check data conservation"
   ]
  },
  {
   "cell_type": "code",
   "execution_count": null,
   "id": "4e3e9fd8",
   "metadata": {},
   "outputs": [],
   "source": [
    "# Compare statistics to check if remapping preserved the data well\n",
    "print(\"Data conservation check:\")\n",
    "print(\"\\nTemperature (Tb):\")\n",
    "print(f\"Original - Mean: {ds.Tb.isel(time=0).mean().values:.2f}, Std: {ds.Tb.isel(time=0).std().values:.2f}\")\n",
    "print(f\"Remapped - Mean: {ds_remap.Tb.isel(time=0).mean().values:.2f}, Std: {ds_remap.Tb.isel(time=0).std().values:.2f}\")\n",
    "\n",
    "print(\"\\nPrecipitation:\")\n",
    "print(f\"Original - Mean: {ds.precipitationCal.isel(time=0).mean().values:.4f}, Std: {ds.precipitationCal.isel(time=0).std().values:.4f}\")\n",
    "print(f\"Remapped - Mean: {ds_remap.precipitationCal.isel(time=0).mean().values:.4f}, Std: {ds_remap.precipitationCal.isel(time=0).std().values:.4f}\")"
   ]
  }
 ],
 "metadata": {
  "language_info": {
   "name": "python"
  }
 },
 "nbformat": 4,
 "nbformat_minor": 5
}
